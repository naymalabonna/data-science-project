{
  "nbformat": 4,
  "nbformat_minor": 0,
  "metadata": {
    "colab": {
      "name": "Copy of prelim-analysis-explore.ipynb",
      "provenance": [],
      "include_colab_link": true
    },
    "kernelspec": {
      "name": "python3",
      "display_name": "Python 3"
    },
    "language_info": {
      "name": "python"
    }
  },
  "cells": [
    {
      "cell_type": "markdown",
      "metadata": {
        "id": "view-in-github",
        "colab_type": "text"
      },
      "source": [
        "<a href=\"https://colab.research.google.com/github/naymalabonna/data-science-project/blob/main/Copy_of_prelim_analysis_explore.ipynb\" target=\"_parent\"><img src=\"https://colab.research.google.com/assets/colab-badge.svg\" alt=\"Open In Colab\"/></a>"
      ]
    },
    {
      "cell_type": "code",
      "metadata": {
        "colab": {
          "base_uri": "https://localhost:8080/",
          "height": 17
        },
        "id": "RoiNk6n7MMaD",
        "outputId": "a32c2833-23b0-494b-f966-4f7d8adfac22"
      },
      "source": [
        "import pandas as pd\n",
        "import json\n",
        "from collections import Counter\n",
        "from itertools import chain\n",
        "from sklearn.feature_extraction.text import TfidfVectorizer\n",
        "import numpy as np\n",
        "import re\n",
        "import random\n",
        "import plotly\n",
        "from plotly import tools\n",
        "from plotly.offline import download_plotlyjs, init_notebook_mode, plot, iplot \n",
        "init_notebook_mode(connected=True)\n",
        "import plotly.offline as offline\n",
        "import plotly.graph_objects as go\n"
      ],
      "execution_count": null,
      "outputs": [
        {
          "output_type": "display_data",
          "data": {
            "text/html": [
              "        <script type=\"text/javascript\">\n",
              "        window.PlotlyConfig = {MathJaxConfig: 'local'};\n",
              "        if (window.MathJax) {MathJax.Hub.Config({SVG: {font: \"STIX-Web\"}});}\n",
              "        if (typeof require !== 'undefined') {\n",
              "        require.undef(\"plotly\");\n",
              "        requirejs.config({\n",
              "            paths: {\n",
              "                'plotly': ['https://cdn.plot.ly/plotly-latest.min']\n",
              "            }\n",
              "        });\n",
              "        require(['plotly'], function(Plotly) {\n",
              "            window._Plotly = Plotly;\n",
              "        });\n",
              "        }\n",
              "        </script>\n",
              "        "
            ]
          },
          "metadata": {}
        }
      ]
    },
    {
      "cell_type": "code",
      "metadata": {
        "id": "tt4rNY6BRXln"
      },
      "source": [
        "train_data = pd.read_json('train.json') # store as dataframe objects\n",
        "test_data = pd.read_json('test.json')"
      ],
      "execution_count": null,
      "outputs": []
    },
    {
      "cell_type": "code",
      "metadata": {
        "colab": {
          "base_uri": "https://localhost:8080/"
        },
        "id": "BM5vHS0AR0Yg",
        "outputId": "9caaee77-c4eb-4b95-df00-a27f4634fb19"
      },
      "source": [
        "print(\"The training data consists of {} recipes\".format(len(train_data)))\n",
        "print(\"The test data consists of {} recipes\".format(len(test_data)))\n",
        "print(\"Number of cuisine categories: {}\".format(len(train_data.cuisine.unique())))\n",
        "train_data.cuisine.unique()"
      ],
      "execution_count": null,
      "outputs": [
        {
          "output_type": "stream",
          "name": "stdout",
          "text": [
            "The training data consists of 39774 recipes\n",
            "The test data consists of 9944 recipes\n",
            "Number of cuisine categories: 20\n"
          ]
        },
        {
          "output_type": "execute_result",
          "data": {
            "text/plain": [
              "array(['greek', 'southern_us', 'filipino', 'indian', 'jamaican',\n",
              "       'spanish', 'italian', 'mexican', 'chinese', 'british', 'thai',\n",
              "       'vietnamese', 'cajun_creole', 'brazilian', 'french', 'japanese',\n",
              "       'irish', 'korean', 'moroccan', 'russian'], dtype=object)"
            ]
          },
          "metadata": {},
          "execution_count": 5
        }
      ]
    },
    {
      "cell_type": "code",
      "metadata": {
        "id": "J2-xkddvSc-c"
      },
      "source": [
        "def random_colours(number_of_colors):\n",
        "    colors = []\n",
        "    for i in range(number_of_colors):\n",
        "        colors.append(\"#\"+''.join([random.choice('0123456789ABCDEF') for j in range(6)]))\n",
        "    return colors"
      ],
      "execution_count": null,
      "outputs": []
    },
    {
      "cell_type": "code",
      "metadata": {
        "id": "mm7lCkahUJ1U"
      },
      "source": [
        "trace = go.Table(\n",
        "                header=dict(values=['Cuisine','Number of recipes'],\n",
        "                fill = dict(color=['#EABEB0']), \n",
        "                align = ['left'] * 5),\n",
        "                cells=dict(values=[train_data.cuisine.value_counts().index,train_data.cuisine.value_counts()],\n",
        "               align = ['left'] * 5))\n",
        "\n",
        "layout = go.Layout(title='Number of recipes in each cuisine category',\n",
        "                   titlefont = dict(size = 20),\n",
        "                   width=500, height=650, \n",
        "                   paper_bgcolor =  'rgba(0,0,0,0)',\n",
        "                   plot_bgcolor = 'rgba(0,0,0,0)',\n",
        "                   autosize = False,\n",
        "                   margin=dict(l=30,r=30,b=1,t=50,pad=1),\n",
        "                   )\n",
        "data = [trace]\n",
        "fig = dict(data=data, layout=layout)\n",
        "iplot(fig)"
      ],
      "execution_count": null,
      "outputs": []
    },
    {
      "cell_type": "code",
      "metadata": {
        "id": "mJ6knw3yUcNH"
      },
      "source": [
        "labelpercents = []\n",
        "for i in train_data.cuisine.value_counts():\n",
        "    percent = (i/sum(train_data.cuisine.value_counts()))*100\n",
        "    percent = \"%.2f\" % percent\n",
        "    percent = str(percent + '%')\n",
        "    labelpercents.append(percent)\n",
        "trace = go.Bar(\n",
        "            x=train_data.cuisine.value_counts().values[::-1],\n",
        "            y= [i for i in train_data.cuisine.value_counts().index][::-1],\n",
        "            text =labelpercents[::-1],  textposition = 'outside', \n",
        "            orientation = 'h',marker = dict(color = random_colours(20)))\n",
        "layout = go.Layout(title='Number of recipes in each cuisine category',\n",
        "                   titlefont = dict(size = 25),\n",
        "                   width=1000, height=450, \n",
        "                   plot_bgcolor = 'rgba(0,0,0,0)',\n",
        "                   paper_bgcolor = 'rgba(255, 219, 227, 0.88)',\n",
        "                   margin=dict(l=75,r=110,b=50,t=60),\n",
        "                   )\n",
        "data = [trace]\n",
        "fig = dict(data=data, layout=layout)\n",
        "iplot(fig, filename='horizontal-bar')"
      ],
      "execution_count": null,
      "outputs": []
    }
  ]
}