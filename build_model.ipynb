{
  "nbformat": 4,
  "nbformat_minor": 0,
  "metadata": {
    "colab": {
      "name": "build_model.ipynb",
      "provenance": [],
      "collapsed_sections": []
    },
    "kernelspec": {
      "name": "python3",
      "display_name": "Python 3"
    },
    "language_info": {
      "name": "python"
    }
  },
  "cells": [
    {
      "cell_type": "code",
      "execution_count": null,
      "metadata": {
        "id": "CfT5aFYV1KQk"
      },
      "outputs": [],
      "source": [
        "# import statements\n",
        "%matplotlib inline\n",
        "import matplotlib.pyplot as plt\n",
        "import pandas as pd\n",
        "import numpy as np\n",
        "pd.set_option('display.max_colwidth', None)\n",
        "import re\n",
        "from nltk.stem import WordNetLemmatizer\n",
        "import nltk\n",
        "nltk.download('wordnet')\n",
        "from sklearn.feature_extraction.text import CountVectorizer\n",
        "from sklearn.preprocessing import LabelEncoder\n",
        "from sklearn.model_selection import train_test_split\n",
        "from sklearn.linear_model import LogisticRegression\n",
        "from sklearn.metrics import confusion_matrix\n",
        "from sklearn.metrics import classification_report"
      ]
    },
    {
      "cell_type": "code",
      "source": [
        "df_train = pd.read_json('train.json')\n",
        "#df_train.head()\n",
        "df_train['all_ingredients'] = df_train['ingredients'].map(\";\".join) # adds new column with string of ingredients separated by semi-colons"
      ],
      "metadata": {
        "id": "LrQZdSU32V0w"
      },
      "execution_count": 3,
      "outputs": []
    },
    {
      "cell_type": "code",
      "source": [
        "def lowercase(ingredient): # making the data uniform by making all letters lowercase for the ingredients\n",
        "    return [x.lower() for x in ingredient]\n",
        "\n",
        "def remove_digits(ingredient): # removes any numbers from ingredients list\n",
        "   return [re.sub(\"\\d+\",\"\", x) for x in ingredient]\n",
        "\n",
        "def remove_special_characters(ingredient): # removes any special characters from ingredients list\n",
        "    ingredient = [x.replace(\"-\", \" \") for x in ingredient] \n",
        "    ingredient = [x.replace(\"&\", \" \") for x in ingredient]\n",
        "    ingredient = [x.replace(\"'\", \" \") for x in ingredient]\n",
        "    ingredient = [x.replace(\"''\", \" \") for x in ingredient]\n",
        "    ingredient = [x.replace(\"%\", \" \") for x in ingredient] \n",
        "    ingredient = [x.replace(\"!\", \" \") for x in ingredient] \n",
        "    ingredient = [x.replace(\"(\", \" \") for x in ingredient] \n",
        "    ingredient = [x.replace(\")\", \" \") for x in ingredient] \n",
        "    ingredient = [x.replace(\"/\", \" \") for x in ingredient] \n",
        "    ingredient = [x.replace(\"?\", \" \") for x in ingredient] \n",
        "    ingredient = [x.replace(\",\", \" \") for x in ingredient] \n",
        "    ingredient = [x.replace(\".\", \" \") for x in ingredient] \n",
        "    ingredient = [x.replace(u\"\\u2122\", \" \") for x in ingredient] # trademark sign\n",
        "    ingredient = [x.replace(u\"\\u00AE\", \" \") for x in ingredient] # registered sign\n",
        "    ingredient = [x.replace(u\"\\u2019\", \" \") for x in ingredient] # right single quotation mark\n",
        "    return ingredient \n",
        "\n",
        "def remove_letters(ingredient): # removes units and other letters from ingredients \n",
        "    letters = ['g', 'lb', 's', 'n']   \n",
        "    def check(string): \n",
        "        s = string.split()\n",
        "        remove  = [word for word in s if word.lower() not in letters]\n",
        "        return ' '.join(remove)\n",
        "    return [check(x) for x in ingredient] \n",
        "\n",
        "def lemmatization(ingredient): # applying lemmatization to ingredients list\n",
        "    lemma = WordNetLemmatizer()\n",
        "    def words(string):\n",
        "        return \" \".join([\"\".join(lemma.lemmatize(w)) for w in string.split()])\n",
        "    return [words(x) for x in ingredient] "
      ],
      "metadata": {
        "id": "DDGWMJa0Eo3V"
      },
      "execution_count": 4,
      "outputs": []
    },
    {
      "cell_type": "code",
      "source": [
        "# make cleaning changes to column\n",
        "df_train['all_ingredients'] = lowercase(df_train['all_ingredients'])\n",
        "df_train['all_ingredients'] = remove_digits(df_train['all_ingredients'])\n",
        "df_train['all_ingredients'] = remove_special_characters(df_train['all_ingredients'])\n",
        "df_train['all_ingredients'] = remove_letters(df_train['all_ingredients'])\n",
        "df_train['all_ingredients'] = lemmatization(df_train['all_ingredients'])\n",
        "#df_train.head(50)"
      ],
      "metadata": {
        "id": "3nW43zB6JWLF"
      },
      "execution_count": 5,
      "outputs": []
    },
    {
      "cell_type": "code",
      "source": [
        "cv = CountVectorizer()\n",
        "X = cv.fit_transform(df_train['all_ingredients'].values) # build matrix for encoding\n",
        "#X.shape\n",
        "le = LabelEncoder()\n",
        "y = le.fit_transform(df_train.cuisine) # encode labels that represents the cuisine of each recipe\n",
        "X_train, X_test, y_train, y_test = train_test_split(X, y, test_size=0.2) # split into training and testing sets"
      ],
      "metadata": {
        "id": "amPiXFye3WYu"
      },
      "execution_count": 6,
      "outputs": []
    },
    {
      "cell_type": "code",
      "source": [
        "# logistic regression model\n",
        "logistic = LogisticRegression(solver='lbfgs', max_iter=10000)\n",
        "logistic.fit(X_train, y_train)"
      ],
      "metadata": {
        "id": "6PXSRzhX3w1P"
      },
      "execution_count": null,
      "outputs": []
    },
    {
      "cell_type": "code",
      "source": [
        "# evaluate model accuracy\n",
        "logistic.score(X_test, y_test)"
      ],
      "metadata": {
        "id": "-D4ecVzw3yyF"
      },
      "execution_count": null,
      "outputs": []
    },
    {
      "cell_type": "code",
      "source": [
        "# confusion matrix \n",
        "plt.figure(figsize=(10, 10))\n",
        "\n",
        "cm = confusion_matrix(y_test, logistic.predict(X_test))\n",
        "cm_normalized = cm.astype('float') / cm.sum(axis=1)[:, np.newaxis]\n",
        "\n",
        "plt.imshow(cm_normalized, interpolation='nearest')\n",
        "plt.title(\"confusion matrix\")\n",
        "plt.colorbar(shrink=0.3)\n",
        "cuisines = df_train['cuisine'].value_counts().index\n",
        "tick_marks = np.arange(len(cuisines))\n",
        "plt.xticks(tick_marks, cuisines, rotation=90)\n",
        "plt.yticks(tick_marks, cuisines)\n",
        "plt.tight_layout()\n",
        "plt.ylabel('True label')\n",
        "plt.xlabel('Predicted label')"
      ],
      "metadata": {
        "id": "QeA2zb4xSW_c"
      },
      "execution_count": null,
      "outputs": []
    },
    {
      "cell_type": "code",
      "source": [
        "# classification report\n",
        "y_pred = logistic.predict(X_test)\n",
        "print(classification_report(y_test, y_pred, target_names=cuisines))"
      ],
      "metadata": {
        "id": "lWenDmsZRiJi"
      },
      "execution_count": null,
      "outputs": []
    }
  ]
}